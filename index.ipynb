{
  "cells": [
    {
      "cell_type": "raw",
      "metadata": {},
      "source": [
        "---\n",
        "title: \"Bruno A Linhares (PPGOB)\"\n",
        "Disciplina: \"Reprodutibilidade Científica no R - Professor: Maurício Camargo\"\n",
        "format: html\n",
        "editor: visual\n",
        "--- "
      ],
      "id": "e49199cb"
    },
    {
      "cell_type": "markdown",
      "metadata": {},
      "source": [
        "```{css, echo = FALSE}\n",
        ".justify {\n",
        "  text-align: justify !important\n",
        "}\n",
        "```\n",
        "\n",
        "\n",
        "### **Apresentação**\n",
        "::: {.justify}\n",
        "* Sou mestre em Oceanografia Biológica pela *Universidade Federal do Rio Grande (PPGOB/FURG)* e bacharel em Ciências Biológicas com ênfase em Biologia Marinha e Costeira pela *Universidade Federal do Rio Grande do Sul (UFRGS)*, em convênio com a *Universidade Estadual do Rio Grande do Sul (UERGS)*. Trabalho com ecologia animal, com enfoque na biologia e conservação de aves marinhas e costeiras e seus habitats. Atualmente sou doutorando do PPGOB/FURG e pesquisador vinculado ao *Laboratório de Aves Aquáticas e Tartarugas Marinhas (LAATM-FURG)*, atuando no *Programa de Monitoramento da Biodiversidade Aquática da Área Ambiental I (PMBA/FEST)*.   \n",
        ":::\n",
        "### **Currículo**\n",
        "\n",
        "[Produção bibliográfica](página_bibliografia_site.html)               \n",
        "\n",
        "[Lattes](http://lattes.cnpq.br/5600969476991900)\n",
        "\n",
        "[Researchgate](https://www.researchgate.net/profile/Bruno-Linhares-3)\n",
        "\n",
        "### **Apresentação**\n",
        "[Clique aqui para ver uma apresentação sobre meu projeto de tese](apresentacao_projtese.html)  \n",
        "\n",
        " ![Campanha de amostragem em Abrolhos em Março/2023](campo.jpg)          \n",
        "No meu trabalho atual participo de atividades de campo em ambientes marinhos e costeiros ao longo da costa do Espírito Santo e Bahia, como o Arquipélago dos Abrolhos.\n"
      ],
      "id": "5572aee0"
    }
  ],
  "metadata": {
    "kernelspec": {
      "display_name": "Python 3",
      "language": "python",
      "name": "python3"
    }
  },
  "nbformat": 4,
  "nbformat_minor": 5
}