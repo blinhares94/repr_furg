{
  "cells": [
    {
      "cell_type": "raw",
      "metadata": {},
      "source": [
        "---\n",
        "title: \"Bruno A Linhares (PPGOB)\"\n",
        "Disciplina: \"Reprodutibilidade Científica no R - Professor: Maurício Camargo\"\n",
        "format: \n",
        "  html:\n",
        "    theme: cosmo\n",
        "    fontsize: 1.1em\n",
        "    linestretch: 1.7\n",
        "--- "
      ],
      "id": "316e24b0"
    },
    {
      "cell_type": "markdown",
      "metadata": {},
      "source": [
        "```{css, echo = FALSE}\n",
        ".justify {\n",
        "  text-align: justify !important\n",
        "}\n",
        "```\n",
        "\n",
        "\n",
        "\n",
        "### **Apresentação**\n",
        "::: {.justify}\n",
        "* Sou mestre e doutorando em Oceanografia Biológica pela *Universidade Federal do Rio Grande (PPGOB/FURG)* e bacharel em Ciências Biológicas com ênfase em Biologia Marinha e Costeira pela *Universidade Federal do Rio Grande do Sul (UFRGS)*, em convênio com a *Universidade Estadual do Rio Grande do Sul (UERGS)*.\n",
        "\n",
        "* Trabalho com ecologia animal, com enfoque na biologia e conservação de aves marinhas e costeiras e seus habitats. Durante a graduação, trabalhei com biologia reprodutiva, ecologia trófica e movimentos de uma ave limícola costeira, o piru-piru [*Haematopus palliatus*], em praias ao longo do litoral sul do Brasil. Nesse trabalho tive contato com o monitoramento intensivo da reprodução, inferindo o sucesso e fenologia reprodutiva, com mais de 60 campos realizados para este fim; com métodos tradicionais e marcadores químicos de análise de dieta, o primeiro caracterizado pela coleta e análise de vestígios alimentares entregados pelos pais aos filhotes, e o segundo com a análise de isótopos estáveis no sangue de adultos e filhotes; utilizando o anilhamento como uma ferramenta para monitorar deslocamentos, ao anilhar indivíduos com anilhas plásticas coloridas e monitorar a ocorrência desses indivíduos em outros locais, como o Refúgio de Vida Silvestre da Ilha dos Lobos. As informações levantadas nessas pesquisas foram importantes para o *manejo e coservação* local da região de Torres. \n",
        "\n",
        "* No mestrado, tive oportunidade de trabalhar com uma temática completamente diferente. Utilizando a análise de isótopos estáveis, investiguei o transporte de nutrientes realizado por colônias de aves marinhas aos ambientes terrestres e aquáticos do arquipélago dos Abrolhos, Bahia, assim como a ecologia trófica dos ratos invasores (*Rattus rattus*) nesse arquipélago. Avaliamos o efeito das aves em diversos componentes do ambiente terrestre (solo, plantas, invertebrados, lagartos nativos e ratos), assim como em corais-estrelinha (*Siderastrea stellata*) no ambiente marinho adjacente às ilhas. Com esses trabalhos, mostramos que as aves influenciam isotopicamente todos os níveis tróficos no ambiente terrestre, assim como os corais no entorno de algumas ilhas (não todas, depende de outras variáveis); e que os ratos consomem matéria das aves marinhas de forma mais direta (predação ou consumo de carcaças) ou indireta, a depender de qual ilha e onde dentro da ilha o rato foi coletado. Essas informações foram relevantes para a *conservação*, por gerarem subsídios para o controle e erradicação dos ratos em Abrolhos (já realizada!!) e por mostrarem a importância ecológica das aves nesse sistema.\n",
        "\n",
        "\n",
        "* Atualmente sou pesquisador vinculado ao *Laboratório de Aves Aquáticas e Tartarugas Marinhas (LAATM-FURG)*, atuando no *Programa de Monitoramento da Biodiversidade Aquática da Área Ambiental I (PMBA/FEST)* como bolsista de doutorado do PPGOB/FURG. Na minha tese de doutorado, planejo investigar a influêncua aspectos espaciais, temporais, tróficos e biológicos nos níveis de contaminantes orgânicos e inorgânicos detectados no sangue e penas de aves marinhas amostradas no entorno da região do Rio Doce (Espírito Santo) e áreas marinhas adjacentes. \n",
        "\n",
        "<br>\n",
        "\n",
        ":::\n",
        "### **Currículo**\n",
        "\n",
        "[Produção acadêmica](pagina_bibliografica_BL.html)               \n",
        "\n",
        "[Lattes](http://lattes.cnpq.br/5600969476991900)\n",
        "\n",
        "[Researchgate](https://www.researchgate.net/profile/Bruno-Linhares-3)\n",
        "\n",
        "### **Apresentação**\n",
        "[Clique aqui para ver uma apresentação sobre meu projeto de tese](apresentacao_projtese.html)  \n",
        "\n",
        " ![Campanha de amostragem em Abrolhos em Março/2023](campo.jpg)          \n",
        "No meu trabalho atual participo de atividades de campo em ambientes marinhos e costeiros ao longo da costa do Espírito Santo e Bahia, como o Arquipélago dos Abrolhos.\n"
      ],
      "id": "2b02793a"
    }
  ],
  "metadata": {
    "kernelspec": {
      "display_name": "Python 3",
      "language": "python",
      "name": "python3"
    }
  },
  "nbformat": 4,
  "nbformat_minor": 5
}